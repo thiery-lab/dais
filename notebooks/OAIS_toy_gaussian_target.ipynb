{
 "cells": [
  {
   "cell_type": "code",
   "execution_count": 1,
   "metadata": {},
   "outputs": [],
   "source": [
    "#######################################################################\n",
    "# This script produces the figure for the two-dimensional synthetic examples in\n",
    "# van den Boom and Thiery (2024, arXiv:2404.18556).\n",
    "#######################################################################\n",
    "%load_ext autoreload\n",
    "%autoreload 2\n",
    "\n",
    "import numpy as np\n",
    "import jax.random as jr\n",
    "import jax.numpy as jnp\n",
    "import pylab as plt\n",
    "\n",
    "import numpy as np\n",
    "import matplotlib.pyplot as plt\n",
    "\n",
    "# local imports\n",
    "import sys\n",
    "sys.path.append('../')\n",
    "\n",
    "from util.ellipse import plot_ellipse\n",
    "from dais.OAIS import OAIS as OAIS\n",
    "\n",
    "from dais.proba.density import LogDensityGeneral"
   ]
  },
  {
   "cell_type": "code",
   "execution_count": 2,
   "id": "3de74a3f",
   "metadata": {},
   "outputs": [],
   "source": [
    "# initialize random number generator\n",
    "key = jr.key(0)"
   ]
  },
  {
   "cell_type": "code",
   "execution_count": 3,
   "metadata": {},
   "outputs": [],
   "source": [
    "## Create a Gaussian target density\n",
    "dim = 2\n",
    "\n",
    "# covariance and precision matrix\n",
    "mu_1 = 1.*np.ones(dim)\n",
    "Sigma_1 = 0.9*np.ones((dim,dim))\n",
    "np.fill_diagonal(Sigma_1, 1.)\n",
    "Sigma_1_inv = np.linalg.inv(Sigma_1)\n",
    "\n",
    "def log_target_density(z):\n",
    "    \"\"\"\n",
    "    Gaussian log density\n",
    "    \"\"\"\n",
    "    z_centred = z - mu_1\n",
    "    return -0.5 * jnp.dot(z_centred, Sigma_1_inv @ z_centred)\n",
    "\n",
    "# create the log density object\n",
    "logdensity = LogDensityGeneral(\n",
    "                logdensity=log_target_density,\n",
    "                dim=dim)"
   ]
  },
  {
   "cell_type": "code",
   "execution_count": 20,
   "metadata": {},
   "outputs": [
    {
     "name": "stdout",
     "output_type": "stream",
     "text": [
      "Initial Objective: 3215.52466\n",
      "{'cov_chol_lower': Traced<ShapedArray(float32[2,2])>with<DynamicJaxprTrace(level=1/0)>, 'log_diag': Traced<ShapedArray(float32[2])>with<DynamicJaxprTrace(level=1/0)>, 'mu': Traced<ShapedArray(float32[2])>with<DynamicJaxprTrace(level=1/0)>}\n"
     ]
    }
   ],
   "source": [
    "# initial mean/covariance\n",
    "mu_init = np.zeros(dim)\n",
    "Gamma_init = np.eye(dim)\n",
    "\n",
    "# number of smaples and number of iterations\n",
    "n_samples = 100\n",
    "n_iter = 10_000\n",
    "\n",
    "# Effective Sample size threshold\n",
    "ESS_threshold = 0.5\n",
    "\n",
    "# initialize the method\n",
    "oais = OAIS(logtarget=logdensity)\n",
    "\n",
    "# run the method\n",
    "key, key_ = jr.split(key)\n",
    "output_dict = oais.run(\n",
    "                key = key_,\n",
    "                mu_init = mu_init,\n",
    "                cov_init = Gamma_init,\n",
    "                n_samples = n_samples,\n",
    "                n_iter = n_iter,\n",
    "                adam_lr=0.01,\n",
    "                verbose = False)"
   ]
  },
  {
   "cell_type": "code",
   "execution_count": 21,
   "id": "86b01611",
   "metadata": {},
   "outputs": [
    {
     "data": {
      "image/png": "[encoded data removed]",
      "text/plain": [
       "<Figure size 640x480 with 1 Axes>"
      ]
     },
     "metadata": {},
     "output_type": "display_data"
    }
   ],
   "source": [
    "plt.plot(output_dict['objective_trace'])\n",
    "plt.yscale('log')"
   ]
  },
  {
   "cell_type": "code",
   "execution_count": 24,
   "id": "5aec6985",
   "metadata": {},
   "outputs": [
    {
     "name": "stdout",
     "output_type": "stream",
     "text": [
      "Estimated mean:  [1.0145766 0.9919447]\n",
      "Estimated covariance: \n",
      " [[1.0201494 0.9183212]\n",
      " [0.9183212 1.0152733]]\n"
     ]
    }
   ],
   "source": [
    "mu = output_dict[\"params\"][\"mu\"]\n",
    "cov_col = output_dict[\"params\"][\"cov_chol\"]\n",
    "cov = np.dot(cov_col, cov_col.T)\n",
    "\n",
    "print(\"Estimated mean: \", mu)\n",
    "print(\"Estimated covariance: \\n\", cov)\n"
   ]
  },
  {
   "cell_type": "code",
   "execution_count": null,
   "id": "18783559",
   "metadata": {},
   "outputs": [],
   "source": []
  },
  {
   "cell_type": "code",
   "execution_count": null,
   "id": "c5e95a39",
   "metadata": {},
   "outputs": [],
   "source": []
  }
 ],
 "metadata": {
  "kernelspec": {
   "display_name": "autodiff",
   "language": "python",
   "name": "python3"
  },
  "language_info": {
   "codemirror_mode": {
    "name": "ipython",
    "version": 3
   },
   "file_extension": ".py",
   "mimetype": "text/x-python",
   "name": "python",
   "nbconvert_exporter": "python",
   "pygments_lexer": "ipython3",
   "version": "3.10.14"
  }
 },
 "nbformat": 4,
 "nbformat_minor": 5
}
