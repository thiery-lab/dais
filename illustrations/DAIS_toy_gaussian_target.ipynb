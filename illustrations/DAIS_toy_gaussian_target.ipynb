{
 "cells": [
  {
   "cell_type": "code",
   "execution_count": 1,
   "metadata": {},
   "outputs": [],
   "source": [
    "%load_ext autoreload\n",
    "%autoreload 2\n",
    "\n",
    "import numpy as np\n",
    "import jax\n",
    "import jax.numpy as jnp\n",
    "import pylab as plt\n",
    "\n",
    "import numpy as np\n",
    "import matplotlib.pyplot as plt\n",
    "\n",
    "# local imports\n",
    "from util.ellipse import plot_ellipse\n",
    "from doubly_AIS import DAIS"
   ]
  },
  {
   "cell_type": "code",
   "execution_count": 2,
   "metadata": {},
   "outputs": [],
   "source": [
    "## Create a Gaussian target density\n",
    "dim = 100\n",
    "\n",
    "# covariance and precision matrix\n",
    "mu_1 = 1.*np.ones(dim)\n",
    "Sigma_1 = 0.9*np.ones((dim,dim))\n",
    "np.fill_diagonal(Sigma_1, 1.)\n",
    "Sigma_1_inv = np.linalg.inv(Sigma_1)\n",
    "\n",
    "def log_target_density(z):\n",
    "    \"\"\"\n",
    "    Gaussian log density\n",
    "    \"\"\"\n",
    "    z_centred = z - mu_1\n",
    "    return -0.5 * jnp.dot(z_centred, Sigma_1_inv @ z_centred)"
   ]
  },
  {
   "cell_type": "code",
   "execution_count": 3,
   "metadata": {},
   "outputs": [
    {
     "name": "stderr",
     "output_type": "stream",
     "text": [
      "/Users/willem/miniconda3/envs/dais2/lib/python3.8/site-packages/jax/lib/xla_bridge.py:125: UserWarning: No GPU/TPU found, falling back to CPU.\n",
      "  warnings.warn('No GPU/TPU found, falling back to CPU.')\n"
     ]
    }
   ],
   "source": [
    "## Run DAIS:\n",
    "\n",
    "# initial mean/covariance\n",
    "mu_init = np.zeros(dim)\n",
    "Gamma_init = np.eye(dim)\n",
    "\n",
    "# damping parameter\n",
    "alpha_damp = 0.3\n",
    "\n",
    "# number of smaples and number of iterations\n",
    "n_samples = 100\n",
    "n_iter = 100\n",
    "\n",
    "# Effective Sample size threshold\n",
    "ESS_threshold = 0.5\n",
    "save_history = True\n",
    "    \n",
    "# run DAIS:\n",
    "output_dict = DAIS(\n",
    "                log_target = log_target_density,\n",
    "                mu_init = mu_init,\n",
    "                Gamma_init = Gamma_init,\n",
    "                n_samples = n_samples,\n",
    "                n_iter = n_iter,\n",
    "                alpha_damp = alpha_damp,\n",
    "                ESS_threshold = ESS_threshold,\n",
    "                save_history=save_history,\n",
    "                )"
   ]
  },
  {
   "cell_type": "code",
   "execution_count": 4,
   "metadata": {},
   "outputs": [],
   "source": [
    "fig, ax_left = plt.subplots(figsize=(6,4))\n",
    "ax_right = ax_left.twinx()\n",
    "\n",
    "p1 = ax_left.plot(output_dict[\"eps_traj\"], \"-^\", lw=1, color='blue', label=r\"$\\epsilon_T$\")\n",
    "ax_left.plot([0, len(output_dict[\"eps_traj\"])], [1,1], \"--\", lw=2, color='blue')\n",
    "ax_left.set_ylim(0,1.45)\n",
    "ax_left.set_xlim(left=0)\n",
    "ax_left.set_ylabel(r\"$\\epsilon_t$\", fontsize=25, color=\"blue\")\n",
    "ax_left.set_xlabel(\"DAIS Iteration\", fontsize=25)\n",
    "\n",
    "ax_left.grid(True, which=\"major\")\n",
    "\n",
    "\n",
    "\n",
    "p2 = ax_right.plot(-np.array(output_dict[\"ELBO_traj\"]),\n",
    "                   color='red', label=\"-ELBO\", lw=3)\n",
    "ax_right.set_ylabel(\"-ELBO\", fontsize=25, color=\"red\")\n",
    "\n",
    "\n",
    "# added these three lines\n",
    "lns = p1+p2\n",
    "labs = [l.get_label() for l in lns]\n",
    "ax_left.legend(lns, labs, loc=1, fontsize=25)\n",
    "\n",
    "\n",
    "# added these three lines\n",
    "lns = p1+p2\n",
    "labs = [l.get_label() for l in lns]\n",
    "ax_left.legend(lns, labs, loc=1, fontsize=15)\n",
    "\n",
    "plt.savefig(\"gauss_monitor.pdf\", dpi=200, bbox_inches='tight')"
   ]
  }
 ],
 "metadata": {
  "kernelspec": {
   "display_name": "Python 3",
   "language": "python",
   "name": "python3"
  },
  "language_info": {
   "codemirror_mode": {
    "name": "ipython",
    "version": 3
   },
   "file_extension": ".py",
   "mimetype": "text/x-python",
   "name": "python",
   "nbconvert_exporter": "python",
   "pygments_lexer": "ipython3",
   "version": "3.8.3"
  }
 },
 "nbformat": 4,
 "nbformat_minor": 5
}
